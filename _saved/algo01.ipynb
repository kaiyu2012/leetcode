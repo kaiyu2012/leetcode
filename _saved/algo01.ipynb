{
 "cells": [
  {
   "cell_type": "code",
   "execution_count": 11,
   "metadata": {},
   "outputs": [
    {
     "name": "stderr",
     "output_type": "stream",
     "text": [
      "<>:26: SyntaxWarning: \"is not\" with a literal. Did you mean \"!=\"?\n",
      "<>:26: SyntaxWarning: \"is not\" with a literal. Did you mean \"!=\"?\n",
      "<ipython-input-11-462a975eeb43>:26: SyntaxWarning: \"is not\" with a literal. Did you mean \"!=\"?\n",
      "  if match is not -1 or p_tail <= p_head +1 or nums[p_head] > target or nums[p_tail] < target:\n"
     ]
    },
    {
     "data": {
      "text/plain": [
       "-1"
      ]
     },
     "execution_count": 11,
     "metadata": {},
     "output_type": "execute_result"
    }
   ],
   "source": [
    "from typing import List\n",
    "\n",
    "class Solution:\n",
    "    def search(self, nums: List[int], target: int) -> int:\n",
    "        p_tail = len(nums) - 1\n",
    "        p_head = 0\n",
    "        match = -1\n",
    "        middle = 0\n",
    "        while(True):\n",
    "            if nums[p_head] < target and nums[p_tail] > target:\n",
    "                middle = int((p_head + p_tail) / 2)\n",
    "                if nums[middle] > target:\n",
    "                    p_tail = middle\n",
    "                elif nums[middle] < target:\n",
    "                    p_head = middle   \n",
    "\n",
    "                else:\n",
    "                    match = middle\n",
    "                    \n",
    "            elif nums[p_head] == target:\n",
    "                match = p_head\n",
    "                \n",
    "            elif nums[p_tail] == target:\n",
    "                match = p_tail\n",
    "\n",
    "            if match is not -1 or p_tail <= p_head +1 or nums[p_head] > target or nums[p_tail] < target:\n",
    "                break\n",
    "            \n",
    "        return match\n",
    "x = Solution\n",
    "s1 = [-1,0,3,5,9,12]\n",
    "s2 = 13\n",
    "\n",
    "s = x.search(x, s1, s2)\n",
    "s\n"
   ]
  },
  {
   "cell_type": "code",
   "execution_count": 59,
   "metadata": {},
   "outputs": [
    {
     "name": "stdout",
     "output_type": "stream",
     "text": [
      "Left: 1  --  Right: 1\n"
     ]
    },
    {
     "data": {
      "text/plain": [
       "-1"
      ]
     },
     "execution_count": 59,
     "metadata": {},
     "output_type": "execute_result"
    }
   ],
   "source": [
    "from typing import List\n",
    "\n",
    "class Solution:\n",
    "    def search(self, nums: List[int], target: int) -> int:\n",
    "        left, right = 0, len(nums)-1\n",
    "        \n",
    "        \n",
    "        while(left <= right):\n",
    "            pivot = (left+right) >> 1\n",
    "            if nums[pivot] == target:\n",
    "                return pivot\n",
    "            else:                \n",
    "                \n",
    "\n",
    "                if right - left == 1:\n",
    "                    left = right\n",
    "                elif right == left:\n",
    "                    break\n",
    "                elif nums[pivot] > target:\n",
    "                    right = pivot\n",
    "                else:\n",
    "                    left = pivot\n",
    "                \n",
    "\n",
    "            print(f'Left: {left}  --  Right: {right}')\n",
    "            \n",
    "        return -1\n",
    "\n",
    "x = Solution\n",
    "s1 = [-1,3]\n",
    "s2 = 2\n",
    "\n",
    "s = x.search(x, s1, s2)\n",
    "s"
   ]
  },
  {
   "cell_type": "code",
   "execution_count": 67,
   "metadata": {},
   "outputs": [
    {
     "name": "stdout",
     "output_type": "stream",
     "text": [
      "Left: 3  Right: 5  pivot: 3\n",
      "Left: 3  Right: 4  pivot: 4\n"
     ]
    },
    {
     "data": {
      "text/plain": [
       "4"
      ]
     },
     "execution_count": 67,
     "metadata": {},
     "output_type": "execute_result"
    }
   ],
   "source": [
    "def isBadVersion(version):\n",
    "    if version >= 4:\n",
    "        return True\n",
    "    else:\n",
    "        return False\n",
    "\n",
    "class Solution:\n",
    "    def firstBadVersion(self, n):\n",
    "        left, right = 1, n\n",
    "        pivot = left\n",
    "        while (right > left):\n",
    "            pivot = (right + left) >> 1\n",
    "            if(isBadVersion(pivot)):\n",
    "                right = pivot\n",
    "            else:\n",
    "                left = pivot\n",
    "            print(f'Left: {left}  Right: {right}  pivot: {pivot}')\n",
    "\n",
    "            if right == left + 1:\n",
    "                left = right\n",
    "                \n",
    "        return right\n",
    "\n",
    "x = Solution\n",
    "result = x.firstBadVersion(x, 5)\n",
    "result\n"
   ]
  },
  {
   "cell_type": "code",
   "execution_count": 104,
   "metadata": {},
   "outputs": [
    {
     "name": "stdout",
     "output_type": "stream",
     "text": [
      "Left: 1  Right: 3  pivot: 1\n",
      "Left: 1  Right: 2  pivot: 2\n"
     ]
    },
    {
     "data": {
      "text/plain": [
       "2"
      ]
     },
     "execution_count": 104,
     "metadata": {},
     "output_type": "execute_result"
    }
   ],
   "source": [
    "class Solution:\n",
    "    def searchInsert(self, nums: List[int], target: int) -> int:        \n",
    "        left, right = 0, len(nums) - 1\n",
    "        pivot = left\n",
    "        while (right > left + 1):\n",
    "            pivot = (right + left) >> 1\n",
    "            if(nums[pivot] < target):\n",
    "                left = pivot\n",
    "            elif nums[pivot] > target:\n",
    "                right = pivot\n",
    "            else:\n",
    "                left = right = pivot\n",
    "            print(f'Left: {left}  Right: {right}  pivot: {pivot}')\n",
    "\n",
    "        \n",
    "        return (left if nums[left] >= target else (right if nums[right] >= target else right + 1))\n",
    "\n",
    "x = Solution\n",
    "n = [1,3,5,6]\n",
    "t = 4\n",
    "result = x.searchInsert(x, n, t)\n",
    "result"
   ]
  }
 ],
 "metadata": {
  "interpreter": {
   "hash": "916dbcbb3f70747c44a77c7bcd40155683ae19c65e1c03b4aa3499c5328201f1"
  },
  "kernelspec": {
   "display_name": "Python 3.8.10 64-bit",
   "language": "python",
   "name": "python3"
  },
  "language_info": {
   "codemirror_mode": {
    "name": "ipython",
    "version": 3
   },
   "file_extension": ".py",
   "mimetype": "text/x-python",
   "name": "python",
   "nbconvert_exporter": "python",
   "pygments_lexer": "ipython3",
   "version": "3.8.10"
  },
  "orig_nbformat": 4
 },
 "nbformat": 4,
 "nbformat_minor": 2
}
