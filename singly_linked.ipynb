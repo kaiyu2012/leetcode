{
 "cells": [
  {
   "cell_type": "code",
   "execution_count": 3,
   "metadata": {},
   "outputs": [
    {
     "name": "stdout",
     "output_type": "stream",
     "text": [
      "One\n",
      "Two\n",
      "Three\n"
     ]
    }
   ],
   "source": [
    "class ListNode:\n",
    "    def __init__(self, val=\"\", next=None):\n",
    "        self.val = val\n",
    "        self.next = next\n",
    "\n",
    "class ListLinked:\n",
    "    def __init__(self):\n",
    "        self.head = None\n",
    "\n",
    "    def print_list(self):\n",
    "        print_node = self.head\n",
    "        while print_node:\n",
    "            print(print_node.val)\n",
    "            print_node = print_node.next\n",
    "\n",
    "test_link = ListLinked()\n",
    "test_link.head = ListNode(\"One\")\n",
    "l2 = ListNode(\"Two\")\n",
    "l3 = ListNode(\"Three\")\n",
    "\n",
    "test_link.head.next = l2\n",
    "l2.next = l3\n",
    "\n",
    "test_link.print_list()"
   ]
  },
  {
   "cell_type": "code",
   "execution_count": null,
   "metadata": {},
   "outputs": [],
   "source": [
    "# Definition for singly-linked list.\n",
    "# class ListNode:\n",
    "#     def __init__(self, val=0, next=None):\n",
    "#         self.val = val\n",
    "#         self.next = next\n",
    "class Solution:\n",
    "    def removeNthFromEnd(self, head: Optional[ListNode], n: int) -> Optional[ListNode]:\n",
    "        r_head = head\n",
    "        previous = head\n",
    "        count = 1\n",
    "        while head.next:\n",
    "            count += 1\n",
    "            head = head.next            \n",
    "            if count > n+1:\n",
    "                previous = previous.next\n",
    "                \n",
    "        if count == n:\n",
    "            return r_head.next\n",
    "        else:\n",
    "            previous.next = previous.next.next\n",
    "            return r_head\n",
    "\n"
   ]
  },
  {
   "cell_type": "code",
   "execution_count": 1,
   "metadata": {},
   "outputs": [
    {
     "name": "stdout",
     "output_type": "stream",
     "text": [
      "7\n",
      "0\n",
      "8\n"
     ]
    }
   ],
   "source": [
    "# Definition for singly-linked list.\n",
    "from typing import Optional\n",
    "class ListNode:\n",
    "    def __init__(self, val=0, next=None):\n",
    "        self.val = val\n",
    "        self.next = next\n",
    "class Solution:\n",
    "    def addTwoNumbers(self, l1: Optional[ListNode], l2: Optional[ListNode]) -> Optional[ListNode]:        \n",
    "        result_head = ListNode(0)\n",
    "        result_tail = result_head\n",
    "        carry = 0\n",
    "        \n",
    "        while l1 or l2 or carry:\n",
    "            v1 = (l1.val if l1 else 0)\n",
    "            v2 = (l2.val if l2 else 0)\n",
    "            carry, two_sum = divmod(v1+v2+carry, 10)\n",
    "                                                        \n",
    "            result_tail.next = ListNode(two_sum)\n",
    "            result_tail = result_tail.next\n",
    "            \n",
    "            l1 = (l1.next if l1 else None)22\n",
    "            l2 = (l2.next if l2 else None)\n",
    "\n",
    "            \n",
    "        return result_head.next\n",
    "\n",
    "l1 = ListNode(2)\n",
    "l1.next = ListNode(4)\n",
    "l1.next.next = ListNode(3)\n",
    "\n",
    "l2 = ListNode(5)\n",
    "l2.next = ListNode(6)\n",
    "l2.next.next = ListNode(4)\n",
    "\n",
    "s = Solution\n",
    "x = s.addTwoNumbers(s, l1, l2)\n",
    "while x:\n",
    "    print(x.val)\n",
    "    x = x.next"
   ]
  },
  {
   "cell_type": "code",
   "execution_count": null,
   "metadata": {},
   "outputs": [],
   "source": [
    "# Definition for singly-linked list.\n",
    "from typing import Optional\n",
    "class ListNode:\n",
    "    def __init__(self, val=0, next=None):\n",
    "        self.val = val\n",
    "        self.next = next\n",
    "class Solution:\n",
    "    def addTwoNumbers(self, l1: Optional[ListNode], l2: Optional[ListNode]) -> Optional[ListNode]:        \n",
    "        result_head = ListNode(0)\n",
    "        result_tail = result_head\n",
    "        carry = 0\n",
    "        \n",
    "        while l1 or l2 or carry:\n",
    "            value1 = (l1.val if l1 else 0)\n",
    "            value2 = (l2.val if l2 else 0)\n",
    "            carry, sum2 = divmod(value1+value2+carry, 10)\n",
    "\n",
    "            result_tail.next = ListNode(sum2)\n",
    "            result_tail = result_tail.next\n",
    "\n",
    "            l1 = (l1.next if l1 else none)\n",
    "\n",
    "            \n",
    "        return result_head.next\n",
    "\n",
    "l1 = ListNode(2)\n",
    "l1.next = ListNode(4)\n",
    "l1.next.next = ListNode(3)\n",
    "\n",
    "l2 = ListNode(5)\n",
    "l2.next = ListNode(6)\n",
    "l2.next.next = ListNode(4)\n",
    "\n",
    "s = Solution\n",
    "x = s.addTwoNumbers(s, l1, l2)\n",
    "while x:\n",
    "    print(x.val)\n",
    "    x = x.next"
   ]
  }
 ],
 "metadata": {
  "interpreter": {
   "hash": "916dbcbb3f70747c44a77c7bcd40155683ae19c65e1c03b4aa3499c5328201f1"
  },
  "kernelspec": {
   "display_name": "Python 3.8.10 64-bit",
   "name": "python3"
  },
  "language_info": {
   "codemirror_mode": {
    "name": "ipython",
    "version": 3
   },
   "file_extension": ".py",
   "mimetype": "text/x-python",
   "name": "python",
   "nbconvert_exporter": "python",
   "pygments_lexer": "ipython3",
   "version": "3.8.10"
  },
  "orig_nbformat": 4
 },
 "nbformat": 4,
 "nbformat_minor": 2
}
